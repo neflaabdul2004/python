{
 "cells": [
  {
   "cell_type": "code",
   "execution_count": 3,
   "id": "0622f65c",
   "metadata": {},
   "outputs": [
    {
     "name": "stdout",
     "output_type": "stream",
     "text": [
      "enter a first  number:10\n",
      "enter a second number:15\n",
      "enter a third number:20\n",
      "biggest number is: 20.0\n"
     ]
    }
   ],
   "source": [
    "n1=float(input(\"enter a first  number:\"))\n",
    "n2=float(input(\"enter a second number:\"))\n",
    "n3=float(input(\"enter a third number:\"))\n",
    "biggest=max(n1,n2,n3)\n",
    "print(\"biggest number is:\",biggest)"
   ]
  },
  {
   "cell_type": "code",
   "execution_count": null,
   "id": "c3d47ae1",
   "metadata": {},
   "outputs": [],
   "source": []
  }
 ],
 "metadata": {
  "kernelspec": {
   "display_name": "Python 3 (ipykernel)",
   "language": "python",
   "name": "python3"
  },
  "language_info": {
   "codemirror_mode": {
    "name": "ipython",
    "version": 3
   },
   "file_extension": ".py",
   "mimetype": "text/x-python",
   "name": "python",
   "nbconvert_exporter": "python",
   "pygments_lexer": "ipython3",
   "version": "3.11.5"
  }
 },
 "nbformat": 4,
 "nbformat_minor": 5
}
