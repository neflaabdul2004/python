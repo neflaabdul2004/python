{
 "cells": [
  {
   "cell_type": "code",
   "execution_count": 3,
   "id": "faaf25e3",
   "metadata": {},
   "outputs": [
    {
     "name": "stdout",
     "output_type": "stream",
     "text": [
      "4.0\n"
     ]
    }
   ],
   "source": [
    "#import math\n",
    "number=16\n",
    "result=math.sqrt(number)\n",
    "print(result)"
   ]
  },
  {
   "cell_type": "code",
   "execution_count": 11,
   "id": "4cc5fb57",
   "metadata": {},
   "outputs": [
    {
     "name": "stdout",
     "output_type": "stream",
     "text": [
      "4.47213595499958\n"
     ]
    }
   ],
   "source": [
    "import math\n",
    "number=20\n",
    "result=math.sqrt(number)\n",
    "print(result)"
   ]
  },
  {
   "cell_type": "code",
   "execution_count": 15,
   "id": "34cf676d",
   "metadata": {},
   "outputs": [
    {
     "name": "stdout",
     "output_type": "stream",
     "text": [
      "5\n",
      "4\n"
     ]
    }
   ],
   "source": [
    "    import math\n",
    "    num = 4.7\n",
    "    print(math.ceil(num))\n",
    "    print(math.floor(num))"
   ]
  },
  {
   "cell_type": "code",
   "execution_count": 18,
   "id": "438d47b8",
   "metadata": {},
   "outputs": [
    {
     "name": "stdout",
     "output_type": "stream",
     "text": [
      "Enter the length of the side of the square:5\n",
      "the area of the squar is: 25.0\n"
     ]
    }
   ],
   "source": [
    "#area of squar\n",
    "side = float(input(\"Enter the length of the side of the square:\"))\n",
    "area = side * side\n",
    "print(\"the area of the squar is:\",area)"
   ]
  },
  {
   "cell_type": "code",
   "execution_count": 17,
   "id": "38a91089",
   "metadata": {},
   "outputs": [
    {
     "name": "stdout",
     "output_type": "stream",
     "text": [
      "enter the base of the triangle:10\n",
      "enter the height of the triangle:6\n",
      "the area of the right_angled triangle is: 30.0\n"
     ]
    }
   ],
   "source": [
    "#area of right_angled triangle\n",
    "base = float(input(\"enter the base of the triangle:\"))\n",
    "height = float(input(\"enter the height of the triangle:\"))\n",
    "area = 0.5 * base * height\n",
    "print(\"the area of the right_angled triangle is:\",area)"
   ]
  },
  {
   "cell_type": "code",
   "execution_count": 1,
   "id": "1b0396fb",
   "metadata": {
    "scrolled": true
   },
   "outputs": [
    {
     "name": "stdout",
     "output_type": "stream",
     "text": [
      "enter your nameharry\n",
      "hello, harry!\n"
     ]
    }
   ],
   "source": [
    "#hello\n",
    "name=input(\"enter your name\")\n",
    "print(\"hello,\", name + \"!\")"
   ]
  },
  {
   "cell_type": "markdown",
   "id": "842fd8b6",
   "metadata": {},
   "source": [
    "#intiger\n",
    "num = int(input(\"enter a numbet\"))\n",
    "previous_num = num - 1\n",
    "next_num = num + 1\n",
    "print(\"the previous number is:\",previous_num)\n",
    "print(\"the next number:\",next_num)\n"
   ]
  },
  {
   "cell_type": "code",
   "execution_count": 8,
   "id": "b6021953",
   "metadata": {},
   "outputs": [
    {
     "name": "stdout",
     "output_type": "stream",
     "text": [
      "enter a numbet5\n",
      "the previous number is: 4\n",
      "the next number: 6\n"
     ]
    }
   ],
   "source": [
    "    #intiger num\n",
    "    num=int(input(\"enter a numbet\")) \n",
    "    previous_num = num-1   \n",
    "    next_num = num+1 \n",
    "    print(\"the previous number is:\",previous_num) \n",
    "    print(\"the next number:\",next_num)\n",
    "    \n"
   ]
  },
  {
   "cell_type": "code",
   "execution_count": 10,
   "id": "8ad48afb",
   "metadata": {},
   "outputs": [
    {
     "name": "stdout",
     "output_type": "stream",
     "text": [
      "enter the principal amount:1000\n",
      "enter the rate of inverst:5\n",
      "enter the time in years:2\n",
      "the simple intreset is: 100.0\n"
     ]
    }
   ],
   "source": [
    "#inverst\n",
    "p=float(input(\"enter the principal amount:\"))\n",
    "r=float(input(\"enter the rate of inverst:\"))\n",
    "t=float(input(\"enter the time in years:\"))\n",
    "\n",
    "SI= (p * r * t)/100\n",
    "print(\"the simple intreset is:\",SI)"
   ]
  },
  {
   "cell_type": "code",
   "execution_count": null,
   "id": "5434c03d",
   "metadata": {},
   "outputs": [],
   "source": []
  }
 ],
 "metadata": {
  "kernelspec": {
   "display_name": "Python 3 (ipykernel)",
   "language": "python",
   "name": "python3"
  },
  "language_info": {
   "codemirror_mode": {
    "name": "ipython",
    "version": 3
   },
   "file_extension": ".py",
   "mimetype": "text/x-python",
   "name": "python",
   "nbconvert_exporter": "python",
   "pygments_lexer": "ipython3",
   "version": "3.11.5"
  }
 },
 "nbformat": 4,
 "nbformat_minor": 5
}
