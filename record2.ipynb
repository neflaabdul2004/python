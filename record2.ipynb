{
 "cells": [
  {
   "cell_type": "code",
   "execution_count": 12,
   "id": "4d9383a6",
   "metadata": {},
   "outputs": [
    {
     "name": "stdout",
     "output_type": "stream",
     "text": [
      "enter temperature in celsius:45.5\n",
      "temprature in fahrenheit: 113.9\n"
     ]
    }
   ],
   "source": [
    "#python program to convert celsius fahrenheit(T(FAHRENHEIT)=t(ce)*9/5+32)\n",
    "celsius = float(input(\"enter temperature in celsius:\"))\n",
    "fahrenheit = round((celsius * 9/5)+32,2)\n",
    "print(\"temprature in fahrenheit:\",fahrenheit)\n"
   ]
  },
  {
   "cell_type": "code",
   "execution_count": 4,
   "id": "6b743a2a",
   "metadata": {},
   "outputs": [
    {
     "name": "stdout",
     "output_type": "stream",
     "text": [
      "enter distance in kilometers:4\n",
      "miles: 2.49\n"
     ]
    }
   ],
   "source": [
    "#python program to convertkilometers to miles(1 kilometer is equal to 0.62137 miles.)\n",
    "kilometers = float(input(\"enter distance in kilometers:\"))\n",
    "conversion_factor = 0.62137\n",
    "miles = round(kilometers * conversion_factor,2)\n",
    "print(\"miles:\",miles)"
   ]
  },
  {
   "cell_type": "code",
   "execution_count": null,
   "id": "33f6c399",
   "metadata": {},
   "outputs": [],
   "source": []
  }
 ],
 "metadata": {
  "kernelspec": {
   "display_name": "Python 3 (ipykernel)",
   "language": "python",
   "name": "python3"
  },
  "language_info": {
   "codemirror_mode": {
    "name": "ipython",
    "version": 3
   },
   "file_extension": ".py",
   "mimetype": "text/x-python",
   "name": "python",
   "nbconvert_exporter": "python",
   "pygments_lexer": "ipython3",
   "version": "3.11.5"
  }
 },
 "nbformat": 4,
 "nbformat_minor": 5
}
