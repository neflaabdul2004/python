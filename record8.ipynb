{
 "cells": [
  {
   "cell_type": "code",
   "execution_count": 10,
   "id": "76ad0272",
   "metadata": {},
   "outputs": [
    {
     "name": "stdout",
     "output_type": "stream",
     "text": [
      "enter the colors of set1:green,yellow,black,red\n",
      "set1: {'red', 'black', 'green', 'yellow'}\n",
      "enter the color of set2:yellow,black,pink,blue\n",
      "set2: {'blue', 'pink', 'black', 'yellow'}\n",
      "colors in set1 not in set2: {'green', 'red'}\n"
     ]
    }
   ],
   "source": [
    "#write a python program to printout all color set 1 not contained in color set2\n",
    "color=set(input(\"enter the colors of set1:\").split(\",\"))\n",
    "\n",
    "print(\"set1:\",color)\n",
    "color1=set(input(\"enter the color of set2:\").split(\",\"))\n",
    "\n",
    "print(\"set2:\",color1)\n",
    "result=color- color1\n",
    "print(\"colors in set1 not in set2:\",result)"
   ]
  },
  {
   "cell_type": "code",
   "execution_count": null,
   "id": "2e4198d9",
   "metadata": {},
   "outputs": [],
   "source": [
    "color=set(input(\"enter the colors of set1:\").split(\",\"))\n",
    "color2=set(input(\"enter the colors of set2:\").split(\",\"))\n",
    "print(\"all colors:\",color|color2)"
   ]
  },
  {
   "cell_type": "code",
   "execution_count": null,
   "id": "fb1c8d73",
   "metadata": {},
   "outputs": [],
   "source": []
  }
 ],
 "metadata": {
  "kernelspec": {
   "display_name": "Python 3 (ipykernel)",
   "language": "python",
   "name": "python3"
  },
  "language_info": {
   "codemirror_mode": {
    "name": "ipython",
    "version": 3
   },
   "file_extension": ".py",
   "mimetype": "text/x-python",
   "name": "python",
   "nbconvert_exporter": "python",
   "pygments_lexer": "ipython3",
   "version": "3.11.5"
  }
 },
 "nbformat": 4,
 "nbformat_minor": 5
}
