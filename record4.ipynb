{
 "cells": [
  {
   "cell_type": "code",
   "execution_count": 3,
   "id": "4717ac4c",
   "metadata": {},
   "outputs": [
    {
     "name": "stdout",
     "output_type": "stream",
     "text": [
      "enter a string:python\n",
      "exchange string is : nythop\n"
     ]
    }
   ],
   "source": [
    "#write a python program to change a given string to a new string where the first and last chars have been exchanged\n",
    "\n",
    "s=input(\"enter a string:\")\n",
    "print(\"exchange string is :\",s[-1] + s[1:-1] + s[0])"
   ]
  },
  {
   "cell_type": "code",
   "execution_count": 4,
   "id": "d087072d",
   "metadata": {},
   "outputs": [
    {
     "name": "stdout",
     "output_type": "stream",
     "text": [
      "enter a string:python\n",
      "exchange string is: pyon\n"
     ]
    }
   ],
   "source": [
    "# write a python program to get a string made of the first 2 and the last 2 chars from a given a string.\n",
    "\n",
    "s=input(\"enter a string:\")\n",
    "first=(s[0:2])\n",
    "last=(s[-2:])\n",
    "print(\"exchange string is:\",first + last)"
   ]
  },
  {
   "cell_type": "code",
   "execution_count": 4,
   "id": "c078217a",
   "metadata": {},
   "outputs": [
    {
     "name": "stdout",
     "output_type": "stream",
     "text": [
      "enter a first string:abc\n",
      "enter a second string:xyz\n",
      "result: xyc abz\n"
     ]
    }
   ],
   "source": [
    "# write a python program to get a single string from two given string,sparated by aspace and swap the first two characters of each string.\n",
    "\n",
    "s1=(input(\"enter a first string:\"))\n",
    "s2=(input(\"enter a second string:\"))\n",
    "new_s1 = s2[:2] + s1[2:]\n",
    "new_s2 = s1[:2] + s2[2:]\n",
    "result = new_s1 +\" \"+ new_s2\n",
    "print(\"result:\",result)"
   ]
  },
  {
   "cell_type": "code",
   "execution_count": 7,
   "id": "40b60c9e",
   "metadata": {},
   "outputs": [
    {
     "name": "stdout",
     "output_type": "stream",
     "text": [
      "enter a string:google\n",
      " modified string: goo$le\n"
     ]
    }
   ],
   "source": [
    "# write a python program to get astring from agiven string where all occurrences of its first char have been changed $,except the first char itself.\n",
    "text=input(\"enter a string:\")\n",
    "first_char = text[0]\n",
    "modified_text = first_char + text[1:].replace(first_char,\"$\")\n",
    "print(\" modified string:\",modified_text)"
   ]
  },
  {
   "cell_type": "code",
   "execution_count": null,
   "id": "5a32b450",
   "metadata": {},
   "outputs": [],
   "source": []
  }
 ],
 "metadata": {
  "kernelspec": {
   "display_name": "Python 3 (ipykernel)",
   "language": "python",
   "name": "python3"
  },
  "language_info": {
   "codemirror_mode": {
    "name": "ipython",
    "version": 3
   },
   "file_extension": ".py",
   "mimetype": "text/x-python",
   "name": "python",
   "nbconvert_exporter": "python",
   "pygments_lexer": "ipython3",
   "version": "3.11.5"
  }
 },
 "nbformat": 4,
 "nbformat_minor": 5
}
