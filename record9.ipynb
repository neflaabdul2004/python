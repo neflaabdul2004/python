{
 "cells": [
  {
   "cell_type": "code",
   "execution_count": 6,
   "id": "05825262",
   "metadata": {},
   "outputs": [
    {
     "name": "stdout",
     "output_type": "stream",
     "text": [
      "enter the 5 rolls:1,2,3,4,5\n",
      "enter 5 names:anu,appu,achu,lena,riya\n",
      "original dictionary is: {1: 'anu', 2: 'appu', 3: 'achu', 4: 'lena', 5: 'riya'}\n",
      "assending: {1: 'anu', 2: 'appu', 3: 'achu', 4: 'lena', 5: 'riya'}\n",
      "descending: {5: 'riya', 4: 'lena', 3: 'achu', 2: 'appu', 1: 'anu'}\n"
     ]
    }
   ],
   "source": [
    "# write a python program to accept 5 students name and roll number,map these into a dictionary(roo as key,name as value).sort the dictionary in ascending and descending order of their roll number[use sorted()]\n",
    "rolls=list(map(int,input(\"enter the 5 rolls:\").split(\",\")))\n",
    "names=input(\"enter 5 names:\").split(\",\")\n",
    "students=dict(zip(rolls,names))\n",
    "print(\"original dictionary is:\",students)\n",
    "ass=dict(sorted(students.items()))\n",
    "\n",
    "print(\"assending:\",ass)\n",
    "des=dict(sorted(students.items(),reverse=True))\n",
    "print(\"descending:\",des)\n",
    "\n"
   ]
  },
  {
   "cell_type": "code",
   "execution_count": 7,
   "id": "f7436041",
   "metadata": {},
   "outputs": [
    {
     "name": "stdout",
     "output_type": "stream",
     "text": [
      "enter 3 rolls:1,2,3\n",
      "enter 3 names:anu,raju,appu\n",
      "enter 2 rolls:4,5\n",
      "enter 2 names:beem,chukki\n",
      "first dictionary: {1: 'anu', 2: 'raju', 3: 'appu'}\n",
      "second dictionary: {4: 'beem', 5: 'chukki'}\n",
      "merged Dictionary: {1: 'anu', 2: 'raju', 3: 'appu', 4: 'beem', 5: 'chukki'}\n"
     ]
    }
   ],
   "source": [
    "#write a python program to accept 2 dictionaries(dic1 contains3 students name roll number and dic2 contains 2 students name and roll number)merge 2 dictionaries and display it[use uodate]\n",
    "\n",
    "rolls1 = list(map(int,input(\"enter 3 rolls:\").split(\",\")))\n",
    "names1=input(\"enter 3 names:\").split(\",\")\n",
    "dic1=dict(zip(rolls1,names1))\n",
    "rolls2 = list(map(int,input(\"enter 2 rolls:\").split(\",\")))\n",
    "names2=input(\"enter 2 names:\").split(\",\")\n",
    "dic2=dict(zip(rolls2,names2))\n",
    "print(\"first dictionary:\",dic1)\n",
    "print(\"second dictionary:\",dic2)\n",
    "dic1.update(dic2)\n",
    "\n",
    "print(\"merged Dictionary:\",dic1)\n",
    "\n"
   ]
  },
  {
   "cell_type": "code",
   "execution_count": null,
   "id": "a5db5443",
   "metadata": {},
   "outputs": [],
   "source": []
  },
  {
   "cell_type": "code",
   "execution_count": null,
   "id": "bfc42f3e",
   "metadata": {},
   "outputs": [],
   "source": []
  }
 ],
 "metadata": {
  "kernelspec": {
   "display_name": "Python 3 (ipykernel)",
   "language": "python",
   "name": "python3"
  },
  "language_info": {
   "codemirror_mode": {
    "name": "ipython",
    "version": 3
   },
   "file_extension": ".py",
   "mimetype": "text/x-python",
   "name": "python",
   "nbconvert_exporter": "python",
   "pygments_lexer": "ipython3",
   "version": "3.11.5"
  }
 },
 "nbformat": 4,
 "nbformat_minor": 5
}
