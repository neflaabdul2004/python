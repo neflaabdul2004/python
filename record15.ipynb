{
 "cells": [
  {
   "cell_type": "code",
   "execution_count": 5,
   "id": "f14b0c9c",
   "metadata": {},
   "outputs": [
    {
     "name": "stdout",
     "output_type": "stream",
     "text": [
      "enter  length of a rectangle1:45\n",
      "enter breadth of a rectangle1:10\n",
      "area of rectangle1: 450\n",
      "perimeter of rectangle1: 110\n",
      "enter  length of a rectangle2:60\n",
      "enter breadth of a rectangle2:20\n",
      "area of rectangle2: 1200\n",
      "perimeter of rectangle2: 160\n",
      "rectangle 2 is greater\n"
     ]
    }
   ],
   "source": [
    "class rectangle:\n",
    "    def get(self,l,b):\n",
    "        self.l=l\n",
    "        self.b=b\n",
    "    def area(self,l,b):\n",
    "        return l*b\n",
    "    def perimeter(self,l,b):\n",
    "        return 2*(l+b)\n",
    "r1=rectangle()\n",
    "r2=rectangle()\n",
    "l1=int(input(\"enter  length of a rectangle1:\"))\n",
    "b1=int(input(\"enter breadth of a rectangle1:\"))\n",
    "p=r1.area(l1,b1)\n",
    "print(\"area of rectangle1:\",p)\n",
    "s=r1.perimeter(l1,b1)\n",
    "print(\"perimeter of rectangle1:\",s)\n",
    "l2=int(input(\"enter  length of a rectangle2:\"))\n",
    "b2=int(input(\"enter breadth of a rectangle2:\"))\n",
    "\n",
    "q=r2.area(l2,b2)\n",
    "print(\"area of rectangle2:\",q)\n",
    "t=r2.perimeter(l2,b2)\n",
    "print(\"perimeter of rectangle2:\",t)\n",
    "if(p>q):\n",
    "    print(\"rectangle 1 is greater\")\n",
    "elif(q>p):\n",
    "    print(\"rectangle 2 is greater\")\n",
    "else:\n",
    "    print(\"rectangles are equal\")\n"
   ]
  },
  {
   "cell_type": "code",
   "execution_count": null,
   "id": "92855dda",
   "metadata": {},
   "outputs": [],
   "source": []
  }
 ],
 "metadata": {
  "kernelspec": {
   "display_name": "Python 3 (ipykernel)",
   "language": "python",
   "name": "python3"
  },
  "language_info": {
   "codemirror_mode": {
    "name": "ipython",
    "version": 3
   },
   "file_extension": ".py",
   "mimetype": "text/x-python",
   "name": "python",
   "nbconvert_exporter": "python",
   "pygments_lexer": "ipython3",
   "version": "3.11.5"
  }
 },
 "nbformat": 4,
 "nbformat_minor": 5
}
