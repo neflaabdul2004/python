{
 "cells": [
  {
   "cell_type": "code",
   "execution_count": 12,
   "id": "0185de45",
   "metadata": {},
   "outputs": [
    {
     "name": "stdout",
     "output_type": "stream",
     "text": [
      "enter a text:annu,aliyabhatt,sanju,fathima\n",
      "length of longest word: 10\n"
     ]
    }
   ],
   "source": [
    "#1.accept a list of word and return length of longest word\n",
    "text=input(\"enter a text:\").split(\",\")\n",
    "text1=list(text)\n",
    "def longest_word_length(text1):\n",
    "    s=max(len(x) for x in text1)\n",
    "    return s\n",
    "length=longest_word_length(text1)\n",
    "print(\"length of longest word:\",length)"
   ]
  },
  {
   "cell_type": "code",
   "execution_count": 7,
   "id": "379dcc82",
   "metadata": {},
   "outputs": [
    {
     "name": "stdout",
     "output_type": "stream",
     "text": [
      "enter the steps:5\n",
      "* \n",
      "* * \n",
      "* * * \n",
      "* * * * \n",
      "* * * * * \n",
      "* * * * \n",
      "* * * \n",
      "* * \n",
      "* \n"
     ]
    }
   ],
   "source": [
    "#2. Construct following pattern using nested loop\n",
    "\n",
    "n=int(input(\"enter the steps:\"))\n",
    "def star(n):\n",
    "    for i in range(1,n+1):\n",
    "        for j in range(i):\n",
    "            print(\"*\",end=\" \")\n",
    "        print()\n",
    "    for i in range(n-1,0,-1):\n",
    "        for j in range(i):\n",
    "            print(\"*\",end=\" \")\n",
    "        print()\n",
    "        \n",
    "star(n)        \n",
    "\n",
    "\n",
    "    "
   ]
  },
  {
   "cell_type": "code",
   "execution_count": 8,
   "id": "5039b24e",
   "metadata": {},
   "outputs": [
    {
     "name": "stdout",
     "output_type": "stream",
     "text": [
      "ente any number4\n",
      "Foctor of 4 are [1, 2, 4]\n"
     ]
    }
   ],
   "source": [
    "#Generate all factors of a number.\n",
    "n=int(input(\"ente any number\"))\n",
    "def factor(n):\n",
    "    return [i for i in range(1,n+1) if n%i==0]\n",
    "print(\"Foctor of\",n,\"are\",factor(n))"
   ]
  },
  {
   "cell_type": "code",
   "execution_count": 9,
   "id": "8f44f26f",
   "metadata": {},
   "outputs": [
    {
     "name": "stdout",
     "output_type": "stream",
     "text": [
      "enter the side if the square:4\n",
      "Area of the square is 16.0\n",
      "enter the length if the rectangle:5\n",
      "enter the width if the rectangle :2\n",
      "Area of the rectangle is 10.0\n",
      "enter the base of the traingle:8\n",
      "enter the hight of the triangle:4\n",
      "Area of the rectangle is 16.0\n"
     ]
    }
   ],
   "source": [
    "#write lambda function to find area of square rectangle and triangle\n",
    "square=lambda s:s*s\n",
    "rectangle=lambda l,w:l*w\n",
    "triangle=lambda b,h:0.5*b*h\n",
    "\n",
    "\n",
    "s=float(input(\"enter the side if the square:\"))\n",
    "print(\"Area of the square is\",square(s))\n",
    "\n",
    "l=float(input(\"enter the length if the rectangle:\"))\n",
    "w=float(input(\"enter the width if the rectangle :\"))\n",
    "print(\"Area of the rectangle is\",rectangle(l,w))\n",
    "\n",
    "b=float(input(\"enter the base of the traingle:\"))\n",
    "h=float(input(\"enter the hight of the triangle:\"))\n",
    "print(\"Area of the rectangle is\",triangle(b,h))\n",
    "\n",
    "    \n",
    "    "
   ]
  },
  {
   "cell_type": "code",
   "execution_count": null,
   "id": "e3d3ffc0",
   "metadata": {},
   "outputs": [],
   "source": []
  }
 ],
 "metadata": {
  "kernelspec": {
   "display_name": "Python 3 (ipykernel)",
   "language": "python",
   "name": "python3"
  },
  "language_info": {
   "codemirror_mode": {
    "name": "ipython",
    "version": 3
   },
   "file_extension": ".py",
   "mimetype": "text/x-python",
   "name": "python",
   "nbconvert_exporter": "python",
   "pygments_lexer": "ipython3",
   "version": "3.11.5"
  }
 },
 "nbformat": 4,
 "nbformat_minor": 5
}
