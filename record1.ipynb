{
 "cells": [
  {
   "cell_type": "code",
   "execution_count": 6,
   "id": "3e6f3812",
   "metadata": {},
   "outputs": [
    {
     "name": "stdout",
     "output_type": "stream",
     "text": [
      "enter a number:5\n",
      "5 + 55 + 555 = 615\n"
     ]
    }
   ],
   "source": [
    "# write a python program that accepts an integer (n) and compute the value of n+nn+nnn.\n",
    "n=int(input(\"enter a number:\"))\n",
    "nn=n * 10 + n\n",
    "nnn=nn * 10 + n\n",
    "result=print(n , \"+\" , nn , \"+\" ,nnn ,\"=\" , n + nn + nnn) \n"
   ]
  },
  {
   "cell_type": "code",
   "execution_count": 2,
   "id": "60d8a69c",
   "metadata": {},
   "outputs": [
    {
     "name": "stdout",
     "output_type": "stream",
     "text": [
      "enter the radius of circle:7.5\n",
      "the area of the circle is: 176.71\n"
     ]
    }
   ],
   "source": [
    "    # input the radius of circle and compute the area (import math)\n",
    "    import math\n",
    "    radius=float(input(\"enter the radius of circle:\"))\n",
    "    area=math.pi * radius ** 2\n",
    "    print(\"the area of the circle is:\",round(area,2))\n",
    "    \n"
   ]
  },
  {
   "cell_type": "code",
   "execution_count": null,
   "id": "26cb1255",
   "metadata": {},
   "outputs": [],
   "source": []
  }
 ],
 "metadata": {
  "kernelspec": {
   "display_name": "Python 3 (ipykernel)",
   "language": "python",
   "name": "python3"
  },
  "language_info": {
   "codemirror_mode": {
    "name": "ipython",
    "version": 3
   },
   "file_extension": ".py",
   "mimetype": "text/x-python",
   "name": "python",
   "nbconvert_exporter": "python",
   "pygments_lexer": "ipython3",
   "version": "3.11.5"
  }
 },
 "nbformat": 4,
 "nbformat_minor": 5
}
