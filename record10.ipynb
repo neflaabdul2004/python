{
 "cells": [
  {
   "cell_type": "code",
   "execution_count": 11,
   "id": "7c207a68",
   "metadata": {},
   "outputs": [
    {
     "name": "stdout",
     "output_type": "stream",
     "text": [
      " enter a first list: 1,2,3,5,7,8\n",
      " enter a second list: 2,4,5,8,1,0\n",
      " first list:  [1, 2, 3, 5, 7, 8]\n",
      " second list:  [2, 4, 5, 8, 1, 0]\n",
      " two lists are same length. \n",
      " two lists sum to the not same value. \n",
      "  common values in two list : {8, 1, 2, 5}\n"
     ]
    }
   ],
   "source": [
    "#enter 2 lists of integers.check(a)whether list are of same length(b)whether list sums to same value(c)whether any value occur in both\n",
    "num1=input(\" enter a first list: \")\n",
    "n1=list(map(int,num1.split(\",\")))\n",
    "\n",
    "num2=input(\" enter a second list: \")\n",
    "\n",
    "n2=list(map(int,num2.split(\",\")))\n",
    "\n",
    "print(\" first list: \",n1)\n",
    "\n",
    "print(\" second list: \",n2)\n",
    "\n",
    "if len(n1) == len(n2):\n",
    "    print(\" two lists are same length. \")\n",
    "else:\n",
    "    print(\" two lists are not same length. \")\n",
    "    \n",
    "if sum(n1) == sum(n2):\n",
    "    print(\" two lists sum to the same value. \")\n",
    "    \n",
    "else:\n",
    "    print(\" two lists sum to the not same value. \")\n",
    "    \n",
    "common= set(n1) & set(n2)\n",
    "if common:\n",
    "    \n",
    "    print(\"  common values in two list :\",common)\n",
    "    \n",
    "else:\n",
    "    printf(\" no common values in two list \")\n",
    "\n"
   ]
  },
  {
   "cell_type": "code",
   "execution_count": 10,
   "id": "d846eb43",
   "metadata": {},
   "outputs": [
    {
     "name": "stdout",
     "output_type": "stream",
     "text": [
      "enter a string:sing\n",
      "result: singly\n"
     ]
    }
   ],
   "source": [
    "#add 'ing' at the end of a given string if it already ends with 'ing,'then add ly\n",
    "n=input(\"enter a string:\")\n",
    "if n.endswith(\"ing\"):\n",
    "    n=n+\"ly\"\n",
    "else:\n",
    "    n=n+\"ing\"\n",
    "print(\"result:\",n)    "
   ]
  },
  {
   "cell_type": "code",
   "execution_count": null,
   "id": "47931a48",
   "metadata": {},
   "outputs": [],
   "source": []
  }
 ],
 "metadata": {
  "kernelspec": {
   "display_name": "Python 3 (ipykernel)",
   "language": "python",
   "name": "python3"
  },
  "language_info": {
   "codemirror_mode": {
    "name": "ipython",
    "version": 3
   },
   "file_extension": ".py",
   "mimetype": "text/x-python",
   "name": "python",
   "nbconvert_exporter": "python",
   "pygments_lexer": "ipython3",
   "version": "3.11.5"
  }
 },
 "nbformat": 4,
 "nbformat_minor": 5
}
