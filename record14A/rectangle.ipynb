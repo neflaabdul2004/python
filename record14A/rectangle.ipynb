{
 "cells": [
  {
   "cell_type": "code",
   "execution_count": 1,
   "id": "d5fa2c6f",
   "metadata": {},
   "outputs": [],
   "source": [
    "def rectarea(l,b):\n",
    "    print(\"area of rectangle:\",l*b)\n",
    "def rectperi(l,b):\n",
    "    print(\"perimeter of rectangle:\",2*(l+b))"
   ]
  },
  {
   "cell_type": "code",
   "execution_count": 2,
   "id": "37b60c4c",
   "metadata": {},
   "outputs": [
    {
     "name": "stdout",
     "output_type": "stream",
     "text": [
      "[NbConvertApp] Converting notebook rectangle.ipynb to python\n",
      "[NbConvertApp] Writing 170 bytes to rectangle.py\n"
     ]
    }
   ],
   "source": [
    "! jupyter nbconvert --to python rectangle.ipynb"
   ]
  },
  {
   "cell_type": "code",
   "execution_count": null,
   "id": "8a691542",
   "metadata": {},
   "outputs": [],
   "source": []
  }
 ],
 "metadata": {
  "kernelspec": {
   "display_name": "Python 3 (ipykernel)",
   "language": "python",
   "name": "python3"
  },
  "language_info": {
   "codemirror_mode": {
    "name": "ipython",
    "version": 3
   },
   "file_extension": ".py",
   "mimetype": "text/x-python",
   "name": "python",
   "nbconvert_exporter": "python",
   "pygments_lexer": "ipython3",
   "version": "3.11.5"
  }
 },
 "nbformat": 4,
 "nbformat_minor": 5
}
