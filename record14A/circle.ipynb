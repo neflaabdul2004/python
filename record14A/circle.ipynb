{
 "cells": [
  {
   "cell_type": "code",
   "execution_count": 1,
   "id": "00e34a77",
   "metadata": {},
   "outputs": [],
   "source": [
    "import math\n",
    "def circlearea(r):\n",
    "    print(\"area of circle:\",math.pi*r**2)\n",
    "def circleperi(r):\n",
    "    print(\"perimeter of circle:\",2*math.pi*r)"
   ]
  },
  {
   "cell_type": "code",
   "execution_count": 3,
   "id": "77def561",
   "metadata": {},
   "outputs": [
    {
     "name": "stdout",
     "output_type": "stream",
     "text": [
      "[NbConvertApp] Converting notebook circle.ipynb to python\n",
      "[NbConvertApp] Writing 189 bytes to circle.py\n"
     ]
    }
   ],
   "source": [
    "! jupyter nbconvert --to python circle.ipynb"
   ]
  },
  {
   "cell_type": "code",
   "execution_count": null,
   "id": "34bae675",
   "metadata": {},
   "outputs": [],
   "source": []
  }
 ],
 "metadata": {
  "kernelspec": {
   "display_name": "Python 3 (ipykernel)",
   "language": "python",
   "name": "python3"
  },
  "language_info": {
   "codemirror_mode": {
    "name": "ipython",
    "version": 3
   },
   "file_extension": ".py",
   "mimetype": "text/x-python",
   "name": "python",
   "nbconvert_exporter": "python",
   "pygments_lexer": "ipython3",
   "version": "3.11.5"
  }
 },
 "nbformat": 4,
 "nbformat_minor": 5
}
