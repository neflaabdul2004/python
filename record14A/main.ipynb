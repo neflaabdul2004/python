{
 "cells": [
  {
   "cell_type": "code",
   "execution_count": null,
   "id": "dd2c99db",
   "metadata": {},
   "outputs": [
    {
     "name": "stdout",
     "output_type": "stream",
     "text": [
      "[NbConvertApp] Converting notebook rectangle.ipynb to python\n",
      "[NbConvertApp] Writing 268 bytes to rectangle.py\n",
      "1.Rectangle\n",
      "2.Circle\n",
      "3.exit\n",
      "enter your choice:2\n",
      "enter radius:33\n",
      "area of circle: 3421.194399759285\n",
      "perimeter of circle: 207.34511513692635\n",
      "1.Rectangle\n",
      "2.Circle\n",
      "3.exit\n"
     ]
    }
   ],
   "source": [
    "import rectangle\n",
    "import circle\n",
    "while(1):\n",
    "    \n",
    "    print(\"1.Rectangle\\n2.Circle\\n3.exit\")\n",
    "    ch=int(input(\"enter your choice:\"))\n",
    "    if ch==1:\n",
    "        l=int(input(\"enter length:\"))\n",
    "        b=int(input(\"enter breadth:\"))\n",
    "        rectangle.rectarea(l,b)\n",
    "        rectangle.rectperi(l,b)\n",
    "        \n",
    "    elif ch==2:\n",
    "        \n",
    "        r=int(input(\"enter radius:\"))\n",
    "        circle.circlearea(r)\n",
    "        circle.circleperi(r)\n",
    "        \n",
    "    else:\n",
    "        print(\"exting...\")\n",
    "        break\n",
    "        "
   ]
  },
  {
   "cell_type": "code",
   "execution_count": null,
   "id": "fa313dc5",
   "metadata": {},
   "outputs": [],
   "source": []
  }
 ],
 "metadata": {
  "kernelspec": {
   "display_name": "Python 3 (ipykernel)",
   "language": "python",
   "name": "python3"
  },
  "language_info": {
   "codemirror_mode": {
    "name": "ipython",
    "version": 3
   },
   "file_extension": ".py",
   "mimetype": "text/x-python",
   "name": "python",
   "nbconvert_exporter": "python",
   "pygments_lexer": "ipython3",
   "version": "3.11.5"
  }
 },
 "nbformat": 4,
 "nbformat_minor": 5
}
