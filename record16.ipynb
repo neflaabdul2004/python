{
 "cells": [
  {
   "cell_type": "code",
   "execution_count": null,
   "id": "5d2745cf",
   "metadata": {},
   "outputs": [
    {
     "name": "stdout",
     "output_type": "stream",
     "text": [
      "Enter your name:nefla\n",
      "Enter account number:10423564885\n",
      "enter account type:abc\n",
      "enter initial balance:1000\n",
      "1.Deposit 2.withdraw 3.Account info 4.exit\n",
      " choose your option:3\n",
      "Account holde name: nefla\n",
      " Account number: 10423564885\n",
      " Account type: abc\n",
      "Account balance: 1000\n",
      "1.Deposit 2.withdraw 3.Account info 4.exit\n",
      " choose your option:2\n",
      "withdraw amount:2000\n",
      "initial balance: 1000\n",
      "you dont have enough balance to withdraw!!\n",
      "current balance: 1000\n"
     ]
    }
   ],
   "source": [
    "class Bank:\n",
    "        def __init__(self,name,acc_no,type_acc,balance):\n",
    "            self.name=name\n",
    "            self.acc_no=acc_no\n",
    "            self.type_acc=type_acc\n",
    "            self.balance=balance\n",
    "        def deposit(self,amount):\n",
    "          \n",
    "            self.balance+=amount\n",
    "            print(amount,\"is deposited\")\n",
    "            print(\"corrent balance\",self.balance)\n",
    "        def withdraw(self):\n",
    "            self.withdraw=int(input(\"withdraw amount:\"))\n",
    "            print(\"initial balance:\",self.balance)\n",
    "            if self.withdraw > self.balance:\n",
    "                print(\"you dont have enough balance to withdraw!!\")\n",
    "                print(\"current balance:\",self.balance)\n",
    "            else:\n",
    "                print(self.withdraw,\"is withdraw\")\n",
    "                self.balance-=self.withdraw\n",
    "                print(\"current balance:\",self.balance)\n",
    "        def acc_info(self):\n",
    "            print(\"Account holde name:\",self.name)\n",
    "            print(\" Account number:\",self.acc_no)\n",
    "            print(\" Account type:\",self.type_acc)\n",
    "            print(\"Account balance:\",self.balance)\n",
    "            \n",
    "            \n",
    "name=input(\"Enter your name:\")\n",
    "acc_no=int(input(\"Enter account number:\"))\n",
    "type_acc=input(\"enter account type:\")\n",
    "balance=int(input(\"enter initial balance:\"))\n",
    "holder=Bank(name,acc_no,type_acc,balance)\n",
    "\n",
    "while(1):\n",
    "    ch=int(input(\"1.Deposit 2.withdraw 3.Account info 4.exit\\n choose your option:\"))\n",
    "    if ch==1:\n",
    "        amount=int(input(\"deposit amount:\"))\n",
    "        holder.deposit(amount)\n",
    "    elif ch==2:\n",
    "        holder.withdraw()\n",
    "    elif ch==3:\n",
    "        holder.acc_info()\n",
    "    else:\n",
    "        print(\"Exiting..\")\n",
    "        break\n",
    "\n",
    "\n",
    "\n",
    "\n",
    "        \n",
    "            \n",
    "            \n",
    "            \n",
    "       \n",
    "    "
   ]
  },
  {
   "cell_type": "code",
   "execution_count": null,
   "id": "a8bb1b54",
   "metadata": {},
   "outputs": [],
   "source": []
  }
 ],
 "metadata": {
  "kernelspec": {
   "display_name": "Python 3 (ipykernel)",
   "language": "python",
   "name": "python3"
  },
  "language_info": {
   "codemirror_mode": {
    "name": "ipython",
    "version": 3
   },
   "file_extension": ".py",
   "mimetype": "text/x-python",
   "name": "python",
   "nbconvert_exporter": "python",
   "pygments_lexer": "ipython3",
   "version": "3.11.5"
  }
 },
 "nbformat": 4,
 "nbformat_minor": 5
}
