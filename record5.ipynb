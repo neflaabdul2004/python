{
 "cells": [
  {
   "cell_type": "code",
   "execution_count": 5,
   "id": "d64e6ec4",
   "metadata": {},
   "outputs": [
    {
     "name": "stdout",
     "output_type": "stream",
     "text": [
      "enter the colour:blue,red,black,green\n",
      "first colour: blue\n",
      "last colour: green\n"
     ]
    }
   ],
   "source": [
    "#create a list of colors from comma-separated color names entered by user.display first and last colors.\n",
    "colors=input(\"enter the colour:\")\n",
    "new=colors.split(\",\")\n",
    "print(\"first colour:\", new[0])\n",
    "print(\"last colour:\", new[-1])\n"
   ]
  },
  {
   "cell_type": "code",
   "execution_count": 6,
   "id": "5b0eea13",
   "metadata": {},
   "outputs": [
    {
     "name": "stdout",
     "output_type": "stream",
     "text": [
      "enter the file name :report.pdf\n",
      "extension: pdf\n"
     ]
    }
   ],
   "source": [
    "#write a python program accept a filename from the user,print extension of that\n",
    "\n",
    "filename=input(\"enter the file name :\")\n",
    "new=filename.split(\".\")\n",
    "print(\"extension:\",new[-1])"
   ]
  },
  {
   "cell_type": "code",
   "execution_count": 7,
   "id": "9ce5960f",
   "metadata": {},
   "outputs": [
    {
     "name": "stdout",
     "output_type": "stream",
     "text": [
      "enter the numbers:2,4,6\n",
      "list: [2, 4, 6]\n",
      "sum: 12\n"
     ]
    }
   ],
   "source": [
    "#write a python program which accepts a sequance of comma-seprated number from user and generate a list with those numbers and find sum of all items in that list\n",
    "num=input(\"enter the numbers:\")\n",
    "n=list(map(int,num.split(\",\")))\n",
    "print(\"list:\",n)\n",
    "print(\"sum:\",sum(n))"
   ]
  },
  {
   "cell_type": "code",
   "execution_count": null,
   "id": "82d8c38e",
   "metadata": {},
   "outputs": [],
   "source": []
  }
 ],
 "metadata": {
  "kernelspec": {
   "display_name": "Python 3 (ipykernel)",
   "language": "python",
   "name": "python3"
  },
  "language_info": {
   "codemirror_mode": {
    "name": "ipython",
    "version": 3
   },
   "file_extension": ".py",
   "mimetype": "text/x-python",
   "name": "python",
   "nbconvert_exporter": "python",
   "pygments_lexer": "ipython3",
   "version": "3.11.5"
  }
 },
 "nbformat": 4,
 "nbformat_minor": 5
}
