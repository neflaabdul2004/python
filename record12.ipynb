{
 "cells": [
  {
   "cell_type": "code",
   "execution_count": 22,
   "id": "47c9f507",
   "metadata": {},
   "outputs": [
    {
     "name": "stdout",
     "output_type": "stream",
     "text": [
      "enter a numbers:1 2 0 -3 4 7\n",
      "postive numbers: [1, 2, 4, 7]\n",
      " the squares is : [1, 4, 0, 9, 16, 49]\n",
      "enter a text:beautiful\n",
      "vowels are : ['e', 'a', 'u', 'i', 'u']\n",
      "ordinal values: [98, 101, 97, 117, 116, 105, 102, 117, 108]\n"
     ]
    }
   ],
   "source": [
    "#list comprehensions:\n",
    "#(a) genarate postive list of numbers from a given list of intigers\n",
    "#(b) square of n numbers\n",
    "#(c)from list of vowels selected from a given method\n",
    "#(d)list ordinal value of each element of a word(hint:use ord()to get ordinal values)\n",
    "\n",
    "#(a)\n",
    "num=input(\"enter a numbers:\").split()\n",
    "nums=list(map(int,num))\n",
    "result=[p for p in nums if p > 0]\n",
    "print(\"postive numbers:\",result)\n",
    "\n",
    "#(b)\n",
    "squres=[x**2 for x in nums]\n",
    "print(\" the squares is :\",squres)\n",
    "\n",
    "#(c)\n",
    "text=input(\"enter a text:\")\n",
    "vowels=[x for x in text if x.lower() in \"a,e,i,o,u\" ]\n",
    "print(\"vowels are :\",vowels)\n",
    "\n",
    "#d\n",
    "word=[ord(x) for x in text]\n",
    "print(\"ordinal values:\",word)\n"
   ]
  },
  {
   "cell_type": "code",
   "execution_count": null,
   "id": "bcf4b484",
   "metadata": {},
   "outputs": [],
   "source": []
  },
  {
   "cell_type": "code",
   "execution_count": null,
   "id": "c57827d4",
   "metadata": {},
   "outputs": [],
   "source": []
  }
 ],
 "metadata": {
  "kernelspec": {
   "display_name": "Python 3 (ipykernel)",
   "language": "python",
   "name": "python3"
  },
  "language_info": {
   "codemirror_mode": {
    "name": "ipython",
    "version": 3
   },
   "file_extension": ".py",
   "mimetype": "text/x-python",
   "name": "python",
   "nbconvert_exporter": "python",
   "pygments_lexer": "ipython3",
   "version": "3.11.5"
  }
 },
 "nbformat": 4,
 "nbformat_minor": 5
}
