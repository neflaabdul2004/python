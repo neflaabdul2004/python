{
 "cells": [
  {
   "cell_type": "code",
   "execution_count": 17,
   "id": "2e0575f5",
   "metadata": {},
   "outputs": [
    {
     "name": "stdout",
     "output_type": "stream",
     "text": [
      "enter a text to find occurrence:hi hello hi good hello\n",
      "hi : 2\n",
      "hello : 2\n",
      "good : 1\n"
     ]
    }
   ],
   "source": [
    "#1.count the occurrences of each word in aline of text \n",
    "text=input(\"enter a text to find occurrence:\").split()\n",
    "count={}\n",
    "\n",
    "for word in text:\n",
    "    if word in count:\n",
    "         count[word]+=1\n",
    "    else:\n",
    "        count[word]=1\n",
    "for word in count:\n",
    "    print(word,\":\",count[word])\n",
    "        \n",
    "    \n",
    "    \n",
    "    \n"
   ]
  },
  {
   "cell_type": "code",
   "execution_count": 34,
   "id": "e750447f",
   "metadata": {},
   "outputs": [
    {
     "name": "stdout",
     "output_type": "stream",
     "text": [
      "enter a  numbres separated by space:19 100 38 300 444\n",
      "after adding 'over' for > 100 values: [19, 100, 38, 'over', 'over']\n"
     ]
    }
   ],
   "source": [
    "#2.prompt the user for a list of integers.for all values greater than 100,store 'over'instead.\n",
    "num=list(map(int,input(\"enter a  numbres separated by space:\").split()))\n",
    "result = []\n",
    "\n",
    "for n in num:\n",
    "    if n > 100:\n",
    "        result.append(\"over\")\n",
    "    else:\n",
    "         result.append(n)  \n",
    "print(\"after adding 'over' for > 100 values:\",result)             "
   ]
  },
  {
   "cell_type": "code",
   "execution_count": 35,
   "id": "1f6c5f94",
   "metadata": {},
   "outputs": [
    {
     "name": "stdout",
     "output_type": "stream",
     "text": [
      "enter a first name:anu,aju,appu,sanu\n",
      "occurrences of 'a': 4\n"
     ]
    }
   ],
   "source": [
    "#3.store a list of first names.count the occurrences of 'a'whith in the list.\n",
    "text=input(\"enter a first name:\").split(\",\")\n",
    "count=0\n",
    "for n in text:\n",
    "    name=n.lower()\n",
    "    count +=name.count(\"a\")\n",
    "print(\"occurrences of 'a':\",count)\n",
    "            "
   ]
  },
  {
   "cell_type": "code",
   "execution_count": 38,
   "id": "708902f3",
   "metadata": {},
   "outputs": [
    {
     "name": "stdout",
     "output_type": "stream",
     "text": [
      "enter a first number:14\n",
      "enter a secomd number:6\n",
      "GCD of (14, 6) is: 2\n"
     ]
    }
   ],
   "source": [
    "#4.find gcd of 2 numbers\n",
    "\n",
    "a=int(input(\"enter a first number:\"))\n",
    "b=int(input(\"enter a secomd number:\"))\n",
    "s=a,b\n",
    "\n",
    "while b!=0:\n",
    "    a,b=b,a%b\n",
    "print(\"GCD of\",s,\"is:\",a)"
   ]
  },
  {
   "cell_type": "code",
   "execution_count": 15,
   "id": "0d5627b2",
   "metadata": {},
   "outputs": [
    {
     "name": "stdout",
     "output_type": "stream",
     "text": [
      "enter a numbers:1,2,3,4,5,6,7,8\n",
      "list after removing even numbers: [1, 3, 5, 7]\n"
     ]
    }
   ],
   "source": [
    "#5.from a list integers,create a list removing even numbers\n",
    "number=input(\"enter a numbers:\")\n",
    "num=list(map(int,number.split(\",\")))\n",
    "result=[]\n",
    "for n in num:\n",
    "    if n % 2 !=0:\n",
    "        result.append(n)\n",
    "print(\"list after removing even numbers:\",result)\n",
    "    "
   ]
  },
  {
   "cell_type": "code",
   "execution_count": 43,
   "id": "fb5eb448",
   "metadata": {},
   "outputs": [
    {
     "name": "stdout",
     "output_type": "stream",
     "text": [
      "enter a number:5\n",
      "5! is: 120\n"
     ]
    }
   ],
   "source": [
    "#6.program to find the factorial of a numbers\n",
    "num=int(input(\"enter a number:\"))\n",
    "f=1\n",
    "for n in range(1,num+1):\n",
    "    f *= n\n",
    "print(str(num)+\"! is:\",f)    "
   ]
  },
  {
   "cell_type": "code",
   "execution_count": 52,
   "id": "77b9b0fe",
   "metadata": {},
   "outputs": [
    {
     "name": "stdout",
     "output_type": "stream",
     "text": [
      "enter a number:5\n",
      "fibnocci 5 is: 0 1 1 2 3 "
     ]
    }
   ],
   "source": [
    "#7.genarate fibnocci series of n terms\n",
    "\n",
    "num=int(input(\"enter a number:\"))\n",
    "a=0\n",
    "b=1\n",
    "print(\"fibnocci\",num,\"is:\",end=\" \")\n",
    "for i in range(num):\n",
    "   \n",
    "     print(a,end=\" \")\n",
    "     a,b=b,a+b        \n",
    "    \n"
   ]
  },
  {
   "cell_type": "code",
   "execution_count": 22,
   "id": "fbef9cf8",
   "metadata": {},
   "outputs": [
    {
     "name": "stdout",
     "output_type": "stream",
     "text": [
      "enter a numbers:2,3,5,8,1,4\n",
      "sum of all items: 23\n"
     ]
    }
   ],
   "source": [
    "#8.find the sum of all items in list\n",
    "\n",
    "number=input(\"enter a numbers:\")\n",
    "num=list(map(int,number.split(\",\")))\n",
    "total=0\n",
    "for n in num:\n",
    "    total=total+n\n",
    "print(\"sum of all items:\",total)\n",
    "    \n",
    "   \n",
    "\n"
   ]
  },
  {
   "cell_type": "code",
   "execution_count": 54,
   "id": "0f0511f7",
   "metadata": {},
   "outputs": [
    {
     "name": "stdout",
     "output_type": "stream",
     "text": [
      "enter start of range(4-digit number):2000\n",
      "enter end of range (4-digit number):8000\n",
      "four digit numbers with all their digits even and the number is a perfect square: [4624, 6084, 6400]\n"
     ]
    }
   ],
   "source": [
    "#9.genarate a list of four digitnumbers in a given range whith all their digits even and the number is a perfect square.\n",
    "import math\n",
    "start=int(input(\"enter start of range(4-digit number):\"))\n",
    "end=int(input(\"enter end of range (4-digit number):\"))\n",
    "result=[]\n",
    "for num in range(start,end+1):\n",
    "    if 1000 <= num <=9999:\n",
    "        root=int(math.sqrt(num))\n",
    "        if root*root == num:\n",
    "            digits= str(num)\n",
    "            all_even=True\n",
    "            for d in digits:\n",
    "                if int(d)% 2 !=0:\n",
    "                    all_even=False\n",
    "                    break\n",
    "            if all_even:\n",
    "                result.append(num)\n",
    "print(\"four digit numbers with all their digits even and the number is a perfect square:\",result)\n"
   ]
  },
  {
   "cell_type": "code",
   "execution_count": 46,
   "id": "909149af",
   "metadata": {},
   "outputs": [
    {
     "name": "stdout",
     "output_type": "stream",
     "text": [
      "enter a text:hello world\n",
      "character freequancy:\n",
      "h : 1\n",
      "e : 1\n",
      "l : 3\n",
      "o : 2\n",
      "  : 1\n",
      "w : 1\n",
      "r : 1\n",
      "d : 1\n"
     ]
    }
   ],
   "source": [
    "(((#10. count the number of characters(character frequency) in a string,\n",
    "text=input(\"enter a text:\")\n",
    "freq={}\n",
    "\n",
    "for char in text:\n",
    "    if char in freq:\n",
    "         freq[char]+=1\n",
    "    else:\n",
    "        freq[char]=1\n",
    "        \n",
    "print(\"character freequancy:\")\n",
    "for char, count in freq.items():\n",
    "    \n",
    "     print(char,\":\",count)\n",
    "    \n",
    "    "
   ]
  },
  {
   "cell_type": "code",
   "execution_count": 7,
   "id": "1904fdb8",
   "metadata": {},
   "outputs": [
    {
     "name": "stdout",
     "output_type": "stream",
     "text": [
      "enter the steps:4\n",
      "1 \n",
      "2 4 \n",
      "3 6 9 \n",
      "4 8 12 16 \n"
     ]
    }
   ],
   "source": [
    "#11.display the given pyramid with step number accepeted from user.\n",
    "#eg:4\n",
    "#   \"\"\"1 4\n",
    "#    3 6 9\n",
    "#   4 8 12 16\"\"\"\n",
    "    \n",
    "N=int(input(\"enter the steps:\"))\n",
    "for i in range(1,N+1):\n",
    "    for j in range(1,i+1):\n",
    "        \n",
    "        print(i*j,end=\" (\")\n",
    "    print()\n"
   ]
  },
  {
   "cell_type": "code",
   "execution_count": null,
   "id": "8ba3568e",
   "metadata": {},
   "outputs": [],
   "source": []
  },
  {
   "cell_type": "code",
   "execution_count": null,
   "id": "aed92436",
   "metadata": {},
   "outputs": [],
   "source": []
  }
 ],
 "metadata": {
  "kernelspec": {
   "display_name": "Python 3 (ipykernel)",
   "language": "python",
   "name": "python3"
  },
  "language_info": {
   "codemirror_mode": {
    "name": "ipython",
    "version": 3
   },
   "file_extension": ".py",
   "mimetype": "text/x-python",
   "name": "python",
   "nbconvert_exporter": "python",
   "pygments_lexer": "ipython3",
   "version": "3.11.5"
  }
 },
 "nbformat": 4,
 "nbformat_minor": 5
}
