{
 "cells": [
  {
   "cell_type": "code",
   "execution_count": 6,
   "id": "a6a76aed",
   "metadata": {},
   "outputs": [
    {
     "name": "stdout",
     "output_type": "stream",
     "text": [
      "ente the upper limits:25\n",
      "Even numbers: (2, 4, 6, 8, 10, 12, 14, 16, 18, 20, 22, 24)\n",
      "sum of even numbers: 156\n"
     ]
    }
   ],
   "source": [
    "#write a python program to print all even numbers from 1 to 25 and caluculate sum.(using the range()function directly whith out a loop or conditionas)\n",
    "n=int(input(\"ente the upper limits:\"))\n",
    "evens=range(2,n,2)\n",
    "\n",
    "print(\"Even numbers:\",tuple(evens))\n",
    "print(\"sum of even numbers:\",sum(evens))"
   ]
  },
  {
   "cell_type": "code",
   "execution_count": 10,
   "id": "547db27b",
   "metadata": {},
   "outputs": [
    {
     "name": "stdout",
     "output_type": "stream",
     "text": [
      "enter the range:12\n",
      "numbers in reverse order: (12, 11, 10, 9, 8, 7, 6, 5, 4, 3, 2, 1)\n",
      "sum of reverse order: 78\n"
     ]
    }
   ],
   "source": [
    "#write a python program to print all reverse order and calculate their sum\n",
    "n=int(input(\"enter the range:\"))\n",
    "\n",
    "r=range(n,0,-1)\n",
    "print(\"numbers in reverse order:\",tuple(r))\n",
    "print(\"sum of reverse order:\",sum(r))\n"
   ]
  },
  {
   "cell_type": "code",
   "execution_count": null,
   "id": "8f2409a0",
   "metadata": {},
   "outputs": [],
   "source": []
  }
 ],
 "metadata": {
  "kernelspec": {
   "display_name": "Python 3 (ipykernel)",
   "language": "python",
   "name": "python3"
  },
  "language_info": {
   "codemirror_mode": {
    "name": "ipython",
    "version": 3
   },
   "file_extension": ".py",
   "mimetype": "text/x-python",
   "name": "python",
   "nbconvert_exporter": "python",
   "pygments_lexer": "ipython3",
   "version": "3.11.5"
  }
 },
 "nbformat": 4,
 "nbformat_minor": 5
}
