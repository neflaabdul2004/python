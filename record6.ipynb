{
 "cells": [
  {
   "cell_type": "code",
   "execution_count": 1,
   "id": "d407752c",
   "metadata": {},
   "outputs": [
    {
     "name": "stdout",
     "output_type": "stream",
     "text": [
      "enter the numbe:2,3,5,7,8,4,10\n",
      "tuple is: (2, 3, 5, 7, 8, 4, 10)\n",
      "3rd element is: 5\n",
      "3rd element from last: 8\n"
     ]
    }
   ],
   "source": [
    "#write a python program to get the 3rd element and 3rd element from last a tuple\n",
    "num=input(\"enter the numbe:\")\n",
    "t=tuple(map(int,num.split(\",\")))\n",
    "print(\"tuple is:\",t)\n",
    "print(\"3rd element is:\",t[2])\n",
    "print(\"3rd element from last:\",t[-3])"
   ]
  },
  {
   "cell_type": "code",
   "execution_count": 4,
   "id": "33681476",
   "metadata": {},
   "outputs": [
    {
     "name": "stdout",
     "output_type": "stream",
     "text": [
      "enter the number:2,4,6,8,1\n",
      "tuple is: (2, 4, 6, 8, 1)\n",
      "avarage of items: 4.2\n"
     ]
    }
   ],
   "source": [
    "#write a python program which accept a sequence comma-sepraed numbres from user and genarate a tuple with those numbers and find sum of all items in that tuple.\n",
    "num=input(\"enter the number:\")\n",
    "t=tuple(map(int,num.split(\",\")))\n",
    "print(\"tuple is:\",t)\n",
    "avarage=(sum(t)/len(t))\n",
    "print(\"avarage of items:\",avarage)"
   ]
  },
  {
   "cell_type": "code",
   "execution_count": null,
   "id": "60914ae5",
   "metadata": {},
   "outputs": [],
   "source": []
  }
 ],
 "metadata": {
  "kernelspec": {
   "display_name": "Python 3 (ipykernel)",
   "language": "python",
   "name": "python3"
  },
  "language_info": {
   "codemirror_mode": {
    "name": "ipython",
    "version": 3
   },
   "file_extension": ".py",
   "mimetype": "text/x-python",
   "name": "python",
   "nbconvert_exporter": "python",
   "pygments_lexer": "ipython3",
   "version": "3.11.5"
  }
 },
 "nbformat": 4,
 "nbformat_minor": 5
}
