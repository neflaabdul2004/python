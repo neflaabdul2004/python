{
 "cells": [
  {
   "cell_type": "code",
   "execution_count": 11,
   "id": "fedbfcae",
   "metadata": {},
   "outputs": [
    {
     "ename": "SyntaxError",
     "evalue": "invalid decimal literal (sphere.py, line 2)",
     "output_type": "error",
     "traceback": [
      "Traceback \u001b[0;36m(most recent call last)\u001b[0m:\n",
      "\u001b[0m  File \u001b[1;32m~/anaconda3/lib/python3.11/site-packages/IPython/core/interactiveshell.py:3526\u001b[0m in \u001b[1;35mrun_code\u001b[0m\n    exec(code_obj, self.user_global_ns, self.user_ns)\u001b[0m\n",
      "\u001b[0;36m  Cell \u001b[0;32mIn[11], line 4\u001b[0;36m\n\u001b[0;31m    from graphics1.graphics2 import sphere\u001b[0;36m\n",
      "\u001b[0;36m  File \u001b[0;32m~/nefla2025/rocord14b/graphics1/graphics2/sphere.py:2\u001b[0;36m\u001b[0m\n\u001b[0;31m    print(\"area of sphere:\",2*3.14r*r)\u001b[0m\n\u001b[0m                                 ^\u001b[0m\n\u001b[0;31mSyntaxError\u001b[0m\u001b[0;31m:\u001b[0m invalid decimal literal\n"
     ]
    }
   ],
   "source": [
    "from graphics1 import rectangle\n",
    "from graphics1 import circle\n",
    "from graphics1.graphics2 import cuboid\n",
    "from graphics1.graphics2 import sphere\n",
    "while(1):\n",
    "    print(\"1. Rectangle\\n2. Circle\\n3. Cuboid\\n 4. Sphere\\n 5. Exit\")\n",
    "    ch=int(input(\"Enter your choice: \"))\n",
    "if ch==1:\n",
    "    l=int(input(\"Enter length: \"))\n",
    "    b=int(input(\"Enter breadth: \"))\n",
    "    rectangle.rectare(l,b)\n",
    "    rectangle.rectperi(l,b)\n",
    "\n",
    "elif ch==2:\n",
    "    r=int(input(\"Enter radius: \"))\n",
    "    circle.circleare(r)\n",
    "    circle.circleperi(r)\n",
    "elif ch==3:\n",
    "    l = int(input(\"Enter length: \"))\n",
    "    b = int(input(\"Enter breadth: \"))\n",
    "    h= int(input(\"Enter height: \"))\n",
    "    cuboid.cuboidarea(l,b,h)\n",
    "    cuboid.cuboidperi(l,b,h)\n",
    "elif ch==4:\n",
    "    r=int(input(\"Enter radius: \"))\n",
    "    sphere.spherearea(r)\n",
    "    sphere.sphereperi(r)\n",
    "else:\n",
    "    print(\"Exiting...\")\n",
    "    break"
   ]
  },
  {
   "cell_type": "code",
   "execution_count": null,
   "id": "ea3e6e68",
   "metadata": {},
   "outputs": [],
   "source": []
  }
 ],
 "metadata": {
  "kernelspec": {
   "display_name": "Python 3 (ipykernel)",
   "language": "python",
   "name": "python3"
  },
  "language_info": {
   "codemirror_mode": {
    "name": "ipython",
    "version": 3
   },
   "file_extension": ".py",
   "mimetype": "text/x-python",
   "name": "python",
   "nbconvert_exporter": "python",
   "pygments_lexer": "ipython3",
   "version": "3.11.5"
  }
 },
 "nbformat": 4,
 "nbformat_minor": 5
}
