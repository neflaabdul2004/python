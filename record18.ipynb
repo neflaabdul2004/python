{
 "cells": [
  {
   "cell_type": "code",
   "execution_count": 1,
   "id": "b9413f56",
   "metadata": {},
   "outputs": [
    {
     "name": "stdout",
     "output_type": "stream",
     "text": [
      "enter the length of rectangle 1:5\n",
      "enter the width of  rectangle 1:2\n",
      "enter the length of rectangle 2:4\n",
      "enter the width of  rectangle 2:2\n",
      "area of rectangle1: 10\n",
      "area of rectangle2: 8\n",
      "rectangle 1 is greater\n"
     ]
    }
   ],
   "source": [
    "class rectangle:\n",
    "    def __init__(self,l,w):\n",
    "        self.length=l\n",
    "        self.width=w\n",
    "        self.area=l*w\n",
    "    def __lt__(self,other):\n",
    "        print(\"area of rectangle1:\",self.area)\n",
    "        print(\"area of rectangle2:\",other.area)\n",
    "        if self.area<other.area:\n",
    "    \n",
    "            print(\"rectangle 2 is greater\")\n",
    "        else:\n",
    "            print(\"rectangle 1 is greater\")\n",
    "            \n",
    "            \n",
    "l1=int(input(\"enter the length of rectangle 1:\"))\n",
    "w1=int(input(\"enter the width of  rectangle 1:\"))\n",
    "\n",
    "l2=int(input(\"enter the length of rectangle 2:\"))\n",
    "w2=int(input(\"enter the width of  rectangle 2:\"))\n",
    "\n",
    "r1=rectangle(l1,w1)\n",
    "r2=rectangle(l2,w2)\n",
    "\n",
    "r1<r2"
   ]
  },
  {
   "cell_type": "code",
   "execution_count": 5,
   "id": "a33595c0",
   "metadata": {},
   "outputs": [
    {
     "name": "stdout",
     "output_type": "stream",
     "text": [
      "enter hour 1:2\n",
      "enter minute 1:45\n",
      "enter second 1:2\n",
      "enter hour 2:7\n",
      "enter minute 2:34\n",
      "enter second 2:5\n",
      "Added Time:\n",
      "Hour: 10 \n",
      "Minute: 19 \n",
      "second: 7\n"
     ]
    }
   ],
   "source": [
    "class time:\n",
    "    def __init__(self,hr,mint,sec):\n",
    "        self.hr=hr\n",
    "        self.mint=mint\n",
    "        self.sec=sec\n",
    "    def __add__(self,other):\n",
    "        hh=self.hr+other.hr\n",
    "        mm=self.mint+other.mint\n",
    "        ss=self.sec+other.sec\n",
    "        \n",
    "        \n",
    "        if ss>=60:\n",
    "            mm+=ss//60\n",
    "            ss=ss%60\n",
    "            \n",
    "        if mm >=60:\n",
    "            hh+=mm//60\n",
    "            mm=mm%60\n",
    "            \n",
    "            \n",
    "            print(\"Added Time:\")\n",
    "            print(\"Hour:\",hh,\"\\nMinute:\",mm,\"\\nsecond:\",ss)\n",
    "h1=int(input(\"enter hour 1:\"))\n",
    "m1=int(input(\"enter minute 1:\"))\n",
    "s1=int(input(\"enter second 1:\"))\n",
    "\n",
    "h2=int(input(\"enter hour 2:\"))\n",
    "m2=int(input(\"enter minute 2:\"))\n",
    "s2=int(input(\"enter second 2:\"))\n",
    "\n",
    "t1=time(h1,m1,s1)\n",
    "t2=time(h2,m2,s2)\n",
    "\n",
    "t1+t2\n",
    "\n",
    "\n",
    "    "
   ]
  },
  {
   "cell_type": "code",
   "execution_count": null,
   "id": "4278d772",
   "metadata": {},
   "outputs": [],
   "source": []
  }
 ],
 "metadata": {
  "kernelspec": {
   "display_name": "Python 3 (ipykernel)",
   "language": "python",
   "name": "python3"
  },
  "language_info": {
   "codemirror_mode": {
    "name": "ipython",
    "version": 3
   },
   "file_extension": ".py",
   "mimetype": "text/x-python",
   "name": "python",
   "nbconvert_exporter": "python",
   "pygments_lexer": "ipython3",
   "version": "3.11.5"
  }
 },
 "nbformat": 4,
 "nbformat_minor": 5
}
